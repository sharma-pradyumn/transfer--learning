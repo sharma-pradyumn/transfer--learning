{
 "cells": [
  {
   "cell_type": "code",
   "execution_count": 11,
   "metadata": {},
   "outputs": [],
   "source": [
    "from keras.models import load_model"
   ]
  },
  {
   "cell_type": "code",
   "execution_count": 12,
   "metadata": {},
   "outputs": [
    {
     "name": "stdout",
     "output_type": "stream",
     "text": [
      "Model: \"model_1\"\n",
      "_________________________________________________________________\n",
      "Layer (type)                 Output Shape              Param #   \n",
      "=================================================================\n",
      "input_1 (InputLayer)         (None, 200, 200, 3)       0         \n",
      "_________________________________________________________________\n",
      "block1_conv1 (Conv2D)        (None, 200, 200, 64)      1792      \n",
      "_________________________________________________________________\n",
      "block1_conv2 (Conv2D)        (None, 200, 200, 64)      36928     \n",
      "_________________________________________________________________\n",
      "block1_pool (MaxPooling2D)   (None, 100, 100, 64)      0         \n",
      "_________________________________________________________________\n",
      "block2_conv1 (Conv2D)        (None, 100, 100, 128)     73856     \n",
      "_________________________________________________________________\n",
      "block2_conv2 (Conv2D)        (None, 100, 100, 128)     147584    \n",
      "_________________________________________________________________\n",
      "block2_pool (MaxPooling2D)   (None, 50, 50, 128)       0         \n",
      "_________________________________________________________________\n",
      "block3_conv1 (Conv2D)        (None, 50, 50, 256)       295168    \n",
      "_________________________________________________________________\n",
      "block3_conv2 (Conv2D)        (None, 50, 50, 256)       590080    \n",
      "_________________________________________________________________\n",
      "block3_conv3 (Conv2D)        (None, 50, 50, 256)       590080    \n",
      "_________________________________________________________________\n",
      "block3_pool (MaxPooling2D)   (None, 25, 25, 256)       0         \n",
      "_________________________________________________________________\n",
      "block4_conv1 (Conv2D)        (None, 25, 25, 512)       1180160   \n",
      "_________________________________________________________________\n",
      "block4_conv2 (Conv2D)        (None, 25, 25, 512)       2359808   \n",
      "_________________________________________________________________\n",
      "block4_conv3 (Conv2D)        (None, 25, 25, 512)       2359808   \n",
      "_________________________________________________________________\n",
      "block4_pool (MaxPooling2D)   (None, 12, 12, 512)       0         \n",
      "_________________________________________________________________\n",
      "block5_conv1 (Conv2D)        (None, 12, 12, 512)       2359808   \n",
      "_________________________________________________________________\n",
      "block5_conv2 (Conv2D)        (None, 12, 12, 512)       2359808   \n",
      "_________________________________________________________________\n",
      "block5_conv3 (Conv2D)        (None, 12, 12, 512)       2359808   \n",
      "_________________________________________________________________\n",
      "block5_pool (MaxPooling2D)   (None, 6, 6, 512)         0         \n",
      "_________________________________________________________________\n",
      "flatten (Flatten)            (None, 18432)             0         \n",
      "_________________________________________________________________\n",
      "dense_1 (Dense)              (None, 512)               9437696   \n",
      "_________________________________________________________________\n",
      "leaky_re_lu_1 (LeakyReLU)    (None, 512)               0         \n",
      "_________________________________________________________________\n",
      "dense_2 (Dense)              (None, 256)               131328    \n",
      "_________________________________________________________________\n",
      "leaky_re_lu_2 (LeakyReLU)    (None, 256)               0         \n",
      "_________________________________________________________________\n",
      "dense_3 (Dense)              (None, 256)               65792     \n",
      "_________________________________________________________________\n",
      "leaky_re_lu_3 (LeakyReLU)    (None, 256)               0         \n",
      "_________________________________________________________________\n",
      "dense_4 (Dense)              (None, 128)               32896     \n",
      "_________________________________________________________________\n",
      "leaky_re_lu_4 (LeakyReLU)    (None, 128)               0         \n",
      "_________________________________________________________________\n",
      "dropout_1 (Dropout)          (None, 128)               0         \n",
      "_________________________________________________________________\n",
      "dense_5 (Dense)              (None, 10)                1290      \n",
      "=================================================================\n",
      "Total params: 24,383,690\n",
      "Trainable params: 9,669,002\n",
      "Non-trainable params: 14,714,688\n",
      "_________________________________________________________________\n"
     ]
    }
   ],
   "source": [
    "# load model\n",
    "model = load_model('200_model.h5')\n",
    "# summarize model.\n",
    "model.summary()"
   ]
  },
  {
   "cell_type": "code",
   "execution_count": 13,
   "metadata": {},
   "outputs": [
    {
     "name": "stdout",
     "output_type": "stream",
     "text": [
      "Populating the interactive namespace from numpy and matplotlib\n"
     ]
    }
   ],
   "source": [
    "%pylab inline\n",
    "import matplotlib.pyplot as plt\n",
    "import matplotlib.image as mpimg"
   ]
  },
  {
   "cell_type": "code",
   "execution_count": 14,
   "metadata": {},
   "outputs": [],
   "source": [
    "import os\n",
    "import cv2"
   ]
  },
  {
   "cell_type": "code",
   "execution_count": 15,
   "metadata": {},
   "outputs": [
    {
     "name": "stdout",
     "output_type": "stream",
     "text": [
      "Populating the interactive namespace from numpy and matplotlib\n"
     ]
    }
   ],
   "source": [
    "%pylab inline\n",
    "import matplotlib.pyplot as plt\n",
    "import matplotlib.image as mpimg\n"
   ]
  },
  {
   "cell_type": "code",
   "execution_count": 16,
   "metadata": {},
   "outputs": [],
   "source": [
    "import numpy as np\n",
    "from os import listdir\n",
    "from os.path import isfile,join"
   ]
  },
  {
   "cell_type": "code",
   "execution_count": 22,
   "metadata": {},
   "outputs": [],
   "source": [
    "img_row=200\n",
    "img_col=200\n",
    "\n"
   ]
  },
  {
   "cell_type": "code",
   "execution_count": 23,
   "metadata": {},
   "outputs": [],
   "source": [
    "actors_dataset_dict={'[0]':'Amir Khan',\n",
    "                     '[1]':'Akshay kumar',\n",
    "                     '[2]':'Hritik Roshan',\n",
    "                     '[3]':'Kajal Agarwal',\n",
    "                     '[4]':'Kareena Kapoor',\n",
    "                     '[5]':'Katrina Kaif',\n",
    "                     '[6]':'Madhuri Dixit',\n",
    "                     '[7]':'Salman Khan',\n",
    "                     '[8]':'ShahRukh Khan',\n",
    "                     '[9]':'Shilpa Shetty'\n",
    "                    }\n"
   ]
  },
  {
   "cell_type": "code",
   "execution_count": 24,
   "metadata": {},
   "outputs": [],
   "source": [
    "def draw_test(name,pred,im):\n",
    "    actor=actors_dataset_dict[str(pred)]\n",
    "    expanded_image=cv2.copyMakeBorder(im,80,0,0,100,cv2.BORDER_CONSTANT,value=[0,0,0])\n",
    "    cv2.putText(expanded_image,actor,(0,40),cv2.FONT_HERSHEY_SIMPLEX,1,(0,0,255),2)\n",
    "    cv2.imshow(name,expanded_image)"
   ]
  },
  {
   "cell_type": "code",
   "execution_count": 40,
   "metadata": {},
   "outputs": [],
   "source": [
    "def get_random_image(path):\n",
    "    folders=list(filter(lambda x:os.path.isdir(os.path.join(path,x)),os.listdir(path)))\n",
    "    random_dir=np.random.randint(0,len(folders))\n",
    "    path_class=folders[random_dir]\n",
    "    #print('Class - ',path_class)\n",
    "    file_path=path+path_class\n",
    "    file_names=[f for f in listdir(file_path) if isfile(join(file_path,f))]\n",
    "    random_file_index=np.random.randint(0,len(file_names))\n",
    "    image_name=file_names[random_file_index]\n",
    "    return (cv2.imread(file_path+'/'+image_name),file_path+'/'+image_name,path_class)"
   ]
  },
  {
   "cell_type": "code",
   "execution_count": 42,
   "metadata": {},
   "outputs": [
    {
     "name": "stdout",
     "output_type": "stream",
     "text": [
      "Predicted -Kareena Kapoor\n",
      "Actual ShahRukh Khan\n"
     ]
    },
    {
     "data": {
      "image/png": "[encoded data removed]",
      "text/plain": [
       "<Figure size 432x288 with 1 Axes>"
      ]
     },
     "metadata": {
      "needs_background": "light"
     },
     "output_type": "display_data"
    }
   ],
   "source": [
    "input_im,im_path,class_name=get_random_image('Bollywood_Dataset/Bollywood_Dataset/validation/')\n",
    "input_org=input_im.copy()\n",
    "input_org=cv2.resize(input_org,None,fx=0.5,fy=0.5,interpolation=cv2.INTER_LINEAR)\n",
    "\n",
    "input_im=cv2.resize(input_im,(img_row,img_col),interpolation=cv2.INTER_LINEAR)\n",
    "input_im=input_im/255.\n",
    "input_im=input_im.reshape(1,img_row,img_col,3)\n",
    "\n",
    "res=np.argmax(model.predict(input_im,1,verbose=0),axis=1)\n",
    "\n",
    "print('Predicted -'+actors_dataset_dict[str(res)])\n",
    "print('Actual '+class_name)\n",
    "img=mpimg.imread(im_path)\n",
    "imgplot = plt.imshow(img)\n",
    "plt.show()\n",
    "\n",
    "# draw_test('Prediction',res,input_org)\n",
    "# cv2.waitKey(5000)\n",
    "# cv2.destroyAllWindows()"
   ]
  },
  {
   "cell_type": "code",
   "execution_count": null,
   "metadata": {},
   "outputs": [],
   "source": [
    "correct=0\n",
    "for i in range(200):\n",
    "    input_im,im_path,class_name=get_random_image('Bollywood_Dataset/Bollywood_Dataset/validation/')\n",
    "    input_org=input_im.copy()\n",
    "    input_org=cv2.resize(input_org,None,fx=0.5,fy=0.5,interpolation=cv2.INTER_LINEAR)\n",
    "\n",
    "    input_im=cv2.resize(input_im,(img_row,img_col),interpolation=cv2.INTER_LINEAR)\n",
    "    input_im=input_im/255.\n",
    "    input_im=input_im.reshape(1,img_row,img_col,3)\n",
    "\n",
    "    res=np.argmax(model.predict(input_im,1,verbose=0),axis=1)\n",
    "\n",
    "    pred=actors_dataset_dict[str(res)]\n",
    "    if pred==class_name:\n",
    "        correct+=1\n",
    "print('Correctly predicted ',correct,'out of 100')\n",
    "#     print('Predicted -'+actors_dataset_dict[str(res)])\n",
    "#     img=mpimg.imread(im_path)\n",
    "#     imgplot = plt.imshow(img)\n",
    "#     plt.show()\n",
    "\n"
   ]
  },
  {
   "cell_type": "code",
   "execution_count": null,
   "metadata": {},
   "outputs": [],
   "source": []
  }
 ],
 "metadata": {
  "kernelspec": {
   "display_name": "Python 3",
   "language": "python",
   "name": "python3"
  },
  "language_info": {
   "codemirror_mode": {
    "name": "ipython",
    "version": 3
   },
   "file_extension": ".py",
   "mimetype": "text/x-python",
   "name": "python",
   "nbconvert_exporter": "python",
   "pygments_lexer": "ipython3",
   "version": "3.6.10"
  }
 },
 "nbformat": 4,
 "nbformat_minor": 4
}
